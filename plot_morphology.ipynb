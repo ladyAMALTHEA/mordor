{
  "cells": [
    {
      "cell_type": "markdown",
      "source": [
        "\n",
        "# Morphological Filtering\n",
        "\n",
        "Morphological image processing is a collection of non-linear operations related\n",
        "to the shape or morphology of features in an image, such as boundaries,\n",
        "skeletons, etc. In any given technique, we probe an image with a small shape or\n",
        "template called a structuring element, which defines the region of interest or\n",
        "neighborhood around a pixel.\n",
        "\n",
        "In this document we outline the following basic morphological operations:\n",
        "\n",
        "1. Erosion\n",
        "2. Dilation\n",
        "3. Opening\n",
        "4. Closing\n",
        "5. White Tophat\n",
        "6. Black Tophat\n",
        "7. Skeletonize\n",
        "8. Convex Hull\n",
        "\n",
        "\n",
        "To get started, let's load an image using ``io.imread``. Note that morphology\n",
        "functions only work on gray-scale or binary images, so we set ``as_gray=True``.\n"
      ],
      "metadata": {}
    },
    {
      "cell_type": "code",
      "execution_count": 1,
      "source": [
        "import matplotlib.pyplot as plt\n",
        "from skimage import data\n",
        "from skimage.util import img_as_ubyte\n",
        "\n",
        "orig_phantom = img_as_ubyte(data.shepp_logan_phantom())\n",
        "fig, ax = plt.subplots()\n",
        "ax.imshow(orig_phantom, cmap=plt.cm.gray)"
      ],
      "outputs": [
        {
          "output_type": "execute_result",
          "data": {
            "text/plain": [
              "<matplotlib.image.AxesImage at 0x140d4fac0>"
            ]
          },
          "metadata": {},
          "execution_count": 1
        },
        {
          "output_type": "display_data",
          "data": {
            "text/plain": [
              "<Figure size 432x288 with 1 Axes>"
            ],
            "image/png": "[encoded data removed]"
          },
          "metadata": {
            "needs_background": "light"
          }
        }
      ],
      "metadata": {
        "collapsed": false
      }
    },
    {
      "cell_type": "markdown",
      "source": [
        "Let's also define a convenience function for plotting comparisons:\n",
        "\n"
      ],
      "metadata": {}
    },
    {
      "cell_type": "code",
      "execution_count": 2,
      "source": [
        "def plot_comparison(original, filtered, filter_name):\n",
        "\n",
        "    fig, (ax1, ax2) = plt.subplots(ncols=2, figsize=(8, 4), sharex=True,\n",
        "                                   sharey=True)\n",
        "    ax1.imshow(original, cmap=plt.cm.gray)\n",
        "    ax1.set_title('original')\n",
        "    ax1.axis('off')\n",
        "    ax2.imshow(filtered, cmap=plt.cm.gray)\n",
        "    ax2.set_title(filter_name)\n",
        "    ax2.axis('off')"
      ],
      "outputs": [],
      "metadata": {
        "collapsed": false
      }
    },
    {
      "cell_type": "markdown",
      "source": [
        "## Erosion\n",
        "\n",
        "Morphological ``erosion`` sets a pixel at (i, j) to the *minimum over all\n",
        "pixels in the neighborhood centered at (i, j)*. The structuring element,\n",
        "``footprint``, passed to ``erosion`` is a boolean array that describes this\n",
        "neighborhood. Below, we use ``disk`` to create a circular structuring\n",
        "element, which we use for most of the following examples.\n",
        "\n"
      ],
      "metadata": {}
    },
    {
      "cell_type": "code",
      "execution_count": 4,
      "source": [
        "from skimage.morphology import (erosion, dilation, opening, closing,  # noqa\n",
        "                                white_tophat)\n",
        "from skimage.morphology import black_tophat, skeletonize, convex_hull_image  # noqa\n",
        "from skimage.morphology import disk  # noqa\n",
        "\n",
        "footprint = disk(6)\n",
        "eroded = erosion(orig_phantom, footprint)\n",
        "plot_comparison(orig_phantom, eroded, 'erosion')\n",
        "\n",
        "plt.imshow(footprint)"
      ],
      "outputs": [
        {
          "output_type": "execute_result",
          "data": {
            "text/plain": [
              "<matplotlib.image.AxesImage at 0x14596b520>"
            ]
          },
          "metadata": {},
          "execution_count": 4
        },
        {
          "output_type": "display_data",
          "data": {
            "text/plain": [
              "<Figure size 576x288 with 2 Axes>"
            ],
            "image/png": "[encoded data removed]"
          },
          "metadata": {
            "needs_background": "light"
          }
        }
      ],
      "metadata": {
        "collapsed": false
      }
    },
    {
      "cell_type": "markdown",
      "source": [
        "Notice how the white boundary of the image disappears or gets eroded as we\n",
        "increase the size of the disk. Also notice the increase in size of the two\n",
        "black ellipses in the center and the disappearance of the 3 light gray\n",
        "patches in the lower part of the image.\n",
        "\n",
        "## Dilation\n",
        "\n",
        "Morphological ``dilation`` sets a pixel at (i, j) to the *maximum over all\n",
        "pixels in the neighborhood centered at (i, j)*. Dilation enlarges bright\n",
        "regions and shrinks dark regions.\n",
        "\n"
      ],
      "metadata": {}
    },
    {
      "cell_type": "code",
      "execution_count": 5,
      "source": [
        "dilated = dilation(orig_phantom, footprint)\n",
        "plot_comparison(orig_phantom, dilated, 'dilation')"
      ],
      "outputs": [
        {
          "output_type": "display_data",
          "data": {
            "text/plain": [
              "<Figure size 576x288 with 2 Axes>"
            ],
            "image/png": "[encoded data removed]"
          },
          "metadata": {
            "needs_background": "light"
          }
        }
      ],
      "metadata": {
        "collapsed": false
      }
    },
    {
      "cell_type": "markdown",
      "source": [
        "Notice how the white boundary of the image thickens, or gets dilated, as we\n",
        "increase the size of the disk. Also notice the decrease in size of the two\n",
        "black ellipses in the centre, and the thickening of the light gray circle\n",
        "in the center and the 3 patches in the lower part of the image.\n",
        "\n",
        "## Opening\n",
        "\n",
        "Morphological ``opening`` on an image is defined as an *erosion followed by\n",
        "a dilation*. Opening can remove small bright spots (i.e. \"salt\") and\n",
        "connect small dark cracks.\n",
        "\n"
      ],
      "metadata": {}
    },
    {
      "cell_type": "code",
      "execution_count": null,
      "source": [
        "opened = opening(orig_phantom, footprint)\n",
        "plot_comparison(orig_phantom, opened, 'opening')"
      ],
      "outputs": [],
      "metadata": {
        "collapsed": false
      }
    },
    {
      "cell_type": "markdown",
      "source": [
        "Since ``opening`` an image starts with an erosion operation, light regions\n",
        "that are *smaller* than the structuring element are removed. The dilation\n",
        "operation that follows ensures that light regions that are *larger* than\n",
        "the structuring element retain their original size. Notice how the light\n",
        "and dark shapes in the center their original thickness but the 3 lighter\n",
        "patches in the bottom get completely eroded. The size dependence is\n",
        "highlighted by the outer white ring: The parts of the ring thinner than the\n",
        "structuring element were completely erased, while the thicker region at the\n",
        "top retains its original thickness.\n",
        "\n",
        "## Closing\n",
        "\n",
        "Morphological ``closing`` on an image is defined as a *dilation followed by\n",
        "an erosion*. Closing can remove small dark spots (i.e. \"pepper\") and\n",
        "connect small bright cracks.\n",
        "\n",
        "To illustrate this more clearly, let's add a small crack to the white\n",
        "border:\n",
        "\n"
      ],
      "metadata": {}
    },
    {
      "cell_type": "code",
      "execution_count": null,
      "source": [
        "phantom = orig_phantom.copy()\n",
        "phantom[10:30, 200:210] = 0\n",
        "\n",
        "closed = closing(phantom, footprint)\n",
        "plot_comparison(phantom, closed, 'closing')"
      ],
      "outputs": [],
      "metadata": {
        "collapsed": false
      }
    },
    {
      "cell_type": "markdown",
      "source": [
        "Since ``closing`` an image starts with an dilation operation, dark regions\n",
        "that are *smaller* than the structuring element are removed. The dilation\n",
        "operation that follows ensures that dark regions that are *larger* than the\n",
        "structuring element retain their original size. Notice how the white\n",
        "ellipses at the bottom get connected because of dilation, but other dark\n",
        "region retain their original sizes. Also notice how the crack we added is\n",
        "mostly removed.\n",
        "\n",
        "## White tophat\n",
        "\n",
        "The ``white_tophat`` of an image is defined as the *image minus its\n",
        "morphological opening*. This operation returns the bright spots of the\n",
        "image that are smaller than the structuring element.\n",
        "\n",
        "To make things interesting, we'll add bright and dark spots to the image:\n",
        "\n"
      ],
      "metadata": {}
    },
    {
      "cell_type": "code",
      "execution_count": null,
      "source": [
        "phantom = orig_phantom.copy()\n",
        "phantom[340:350, 200:210] = 255\n",
        "phantom[100:110, 200:210] = 0\n",
        "\n",
        "w_tophat = white_tophat(phantom, footprint)\n",
        "plot_comparison(phantom, w_tophat, 'white tophat')"
      ],
      "outputs": [],
      "metadata": {
        "collapsed": false
      }
    },
    {
      "cell_type": "markdown",
      "source": [
        "As you can see, the 10-pixel wide white square is highlighted since it is\n",
        "smaller than the structuring element. Also, the thin, white edges around\n",
        "most of the ellipse are retained because they're smaller than the\n",
        "structuring element, but the thicker region at the top disappears.\n",
        "\n",
        "## Black tophat\n",
        "\n",
        "The ``black_tophat`` of an image is defined as its morphological **closing\n",
        "minus the original image**. This operation returns the *dark spots of the\n",
        "image that are smaller than the structuring element*.\n",
        "\n"
      ],
      "metadata": {}
    },
    {
      "cell_type": "code",
      "execution_count": null,
      "source": [
        "b_tophat = black_tophat(phantom, footprint)\n",
        "plot_comparison(phantom, b_tophat, 'black tophat')"
      ],
      "outputs": [],
      "metadata": {
        "collapsed": false
      }
    },
    {
      "cell_type": "markdown",
      "source": [
        "As you can see, the 10-pixel wide black square is highlighted since\n",
        "it is smaller than the structuring element.\n",
        "\n",
        "**Duality**\n",
        "\n",
        "As you should have noticed, many of these operations are simply the reverse\n",
        "of another operation. This duality can be summarized as follows:\n",
        "\n",
        "  1. Erosion <-> Dilation\n",
        "\n",
        "  2. Opening <-> Closing\n",
        "\n",
        "  3. White tophat <-> Black tophat\n",
        "\n",
        "## Skeletonize\n",
        "\n",
        "Thinning is used to reduce each connected component in a binary image to a\n",
        "*single-pixel wide skeleton*. It is important to note that this is\n",
        "performed on binary images only.\n",
        "\n"
      ],
      "metadata": {}
    },
    {
      "cell_type": "code",
      "execution_count": null,
      "source": [
        "horse = data.horse()\n",
        "\n",
        "sk = skeletonize(horse == 0)\n",
        "plot_comparison(horse, sk, 'skeletonize')"
      ],
      "outputs": [],
      "metadata": {
        "collapsed": false
      }
    },
    {
      "cell_type": "markdown",
      "source": [
        "As the name suggests, this technique is used to thin the image to 1-pixel\n",
        "wide skeleton by applying thinning successively.\n",
        "\n",
        "## Convex hull\n",
        "\n",
        "The ``convex_hull_image`` is the *set of pixels included in the smallest\n",
        "convex polygon that surround all white pixels in the input image*. Again\n",
        "note that this is also performed on binary images.\n",
        "\n"
      ],
      "metadata": {}
    },
    {
      "cell_type": "code",
      "execution_count": null,
      "source": [
        "hull1 = convex_hull_image(horse == 0)\n",
        "plot_comparison(horse, hull1, 'convex hull')"
      ],
      "outputs": [],
      "metadata": {
        "collapsed": false
      }
    },
    {
      "cell_type": "markdown",
      "source": [
        "As the figure illustrates, ``convex_hull_image`` gives the smallest polygon\n",
        "which covers the white or True completely in the image.\n",
        "\n",
        "If we add a small grain to the image, we can see how the convex hull adapts\n",
        "to enclose that grain:\n",
        "\n"
      ],
      "metadata": {}
    },
    {
      "cell_type": "code",
      "execution_count": null,
      "source": [
        "horse_mask = horse == 0\n",
        "horse_mask[45:50, 75:80] = 1\n",
        "\n",
        "hull2 = convex_hull_image(horse_mask)\n",
        "plot_comparison(horse_mask, hull2, 'convex hull')"
      ],
      "outputs": [],
      "metadata": {
        "collapsed": false
      }
    },
    {
      "cell_type": "markdown",
      "source": [
        "## Additional Resources\n",
        "\n",
        "1. `MathWorks tutorial on morphological processing\n",
        "<https://se.mathworks.com/help/images/morphological-dilation-and-erosion.html>`_\n",
        "\n",
        "2. `Auckland university's tutorial on Morphological Image Processing\n",
        "<https://www.cs.auckland.ac.nz/courses/compsci773s1c/lectures/ImageProcessing-html/topic4.htm>`_\n",
        "\n",
        "3. https://en.wikipedia.org/wiki/Mathematical_morphology\n",
        "\n"
      ],
      "metadata": {}
    },
    {
      "cell_type": "code",
      "execution_count": null,
      "source": [
        "plt.show()"
      ],
      "outputs": [],
      "metadata": {
        "collapsed": false
      }
    }
  ],
  "metadata": {
    "kernelspec": {
      "name": "python3",
      "display_name": "Python 3.9.6 64-bit ('imgproc': conda)"
    },
    "language_info": {
      "codemirror_mode": {
        "name": "ipython",
        "version": 3
      },
      "file_extension": ".py",
      "mimetype": "text/x-python",
      "name": "python",
      "nbconvert_exporter": "python",
      "pygments_lexer": "ipython3",
      "version": "3.9.6"
    },
    "interpreter": {
      "hash": "f4e8d32fcf7b3a00256db71183c654b4a821b54f86c57d85b9fbb7ccde0b047a"
    }
  },
  "nbformat": 4,
  "nbformat_minor": 2
}