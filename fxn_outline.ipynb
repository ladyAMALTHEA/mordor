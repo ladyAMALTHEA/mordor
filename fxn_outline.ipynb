{
 "cells": [
  {
   "cell_type": "code",
   "execution_count": null,
   "source": [
    "#Jeff will help me put these functions into an object, but first, just figure out the nature of the functions. \n",
    "\n",
    "import all the things\n",
    "\n",
    "def see_embryo (experiment_config) \n",
    "#this dictionary needs to have a way to see all of the channel dicts plus all the other nonsense (ap_channel, ect.)\n",
    "    return  img with structure \n",
    "\n",
    "def get_dimensions(img, slice)\n",
    "    # all the regionprops stuff\n",
    "    return rotation_angle, major_axis, minor_axis, rotated_embryo\n",
    "    # rotate the emnryo here\n",
    "\n",
    "def get_knives(rotated_embryo)\n",
    "    # region props x2  to get the knives (may be in function above)\n",
    "    # make sure the knives are rotated too\n",
    "    return rotated AP knife, rotated DV knife\n",
    "\n",
    "def get_AP(AP_knife, rotated_embryo)\n",
    "    #GUI\n",
    "    return Anterior_position, image output of which side was determined to be anterior\n",
    "\n",
    "def get_DV(DV_knife, rotated_embryo)\n",
    "    return DV_side, image output of which side is determined to be dorsal\n",
    "\n",
    "def get_trace(DV_side, Anterior_position, slice)\n",
    "    return slice_trace\n",
    "\n",
    "def get_avg_trace(img, slice, rotation_angle)\n",
    "    #use rotation angle and DV knife to get two other slices +/- 3 above midslice\n",
    "    #average the three traces\n",
    "    # a \"wrapper\" for get_trace\n",
    "    return top_slice_trace, mid_slice_trace, bottom_slice_trace, avg_slice, (image of all four trace outputs, per channel), standard dev, stanard error\n",
    "\n"
   ],
   "outputs": [],
   "metadata": {}
  }
 ],
 "metadata": {
  "orig_nbformat": 4,
  "language_info": {
   "name": "python"
  }
 },
 "nbformat": 4,
 "nbformat_minor": 2
}