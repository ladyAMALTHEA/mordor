{
 "cells": [
  {
   "cell_type": "code",
   "execution_count": 1,
   "source": [
    "import matplotlib.pyplot as plt\n",
    "import numpy as np\n",
    "\n",
    "import czifile\n",
    "from pathlib import Path\n",
    "import os"
   ],
   "outputs": [],
   "metadata": {}
  },
  {
   "cell_type": "code",
   "execution_count": 2,
   "source": [
    "#file_name = 'wt_20210510_gthb_5.czi'\n",
    "work_dir = '/Users/of12/Dropbox/Data/imaging/wt_20210706_krslp'\n",
    "\n",
    "\n",
    "\n",
    "channel_dict = {'DAPI': 0, 'TL':1, 'gt':2, 'pho':3, 'hb':4}\n",
    "bkgd_signal = 150\n",
    "channel_list = ['DAPI', 'gt', 'pho', 'hb'] #keep for iteration\n",
    "shape_channel = 'DAPI'\n",
    "age_channel = 'DAPI'\n",
    "ap_channel = 'DAPI'\n",
    "dv_channel = 'hb'\n",
    "kd_channel = 'pho'\n",
    "out_channels = ['gt', 'hb']\n",
    "\n",
    "#to be replaced by config file"
   ],
   "outputs": [],
   "metadata": {}
  },
  {
   "cell_type": "code",
   "execution_count": null,
   "source": [
    "directory = work_dir\n",
    "for filename in os.listdir(directory):\n",
    "    if filename.endswith(\".czi\"):\n",
    "        print(os.path.join(directory, filename))\n",
    "        path = os.path.join(directory, filename)\n",
    "        get_age(path, filename)\n",
    "    else:\n",
    "        continue"
   ],
   "outputs": [],
   "metadata": {}
  },
  {
   "cell_type": "code",
   "execution_count": 3,
   "source": [
    "def get_age(path, filename):\n",
    "    czi = czifile.imread(path)\n",
    "    img=czi.squeeze()\n",
    "\n",
    "    data = {}\n",
    "    for channel in channel_list:\n",
    "        data[channel] = img[channel_dict[channel],...]\n",
    "    #dimensions of the image\n",
    "    ydim = img.shape[2]\n",
    "    xdim = img.shape[3]\n",
    "    zoom_x1 = round(xdim/2-xdim/5)\n",
    "    zoom_x2 = round(xdim-(xdim/2-xdim/5))\n",
    "    zoom_y1 = round(ydim/2-ydim/5)\n",
    "    zoom_y2 = round(ydim-(ydim/2-ydim/5))\n",
    "\n",
    "    #output images\n",
    "    max_projection = data[age_channel].max(0)\n",
    "    mid_slice =round(img.shape[1] / 2)\n",
    "    stage_slice = data[age_channel][mid_slice,:,:]\n",
    "    age_zoom_top = max_projection[zoom_y1:zoom_y2,  zoom_x1:zoom_x2]\n",
    "    age_zoom_mid = stage_slice[zoom_y1:zoom_y2,  zoom_x1:zoom_x2]\n",
    "\n",
    "\n",
    "    #to see images\n",
    "    fig = plt.figure(figsize=(200,200))\n",
    "    ax=fig.add_subplot(2,2,1)\n",
    "    plt.imshow(max_projection, cmap='gray', vmin=bkgd_signal, vmax=np.max(max_projection)-1)\n",
    "    ax=fig.add_subplot(2,2,2)\n",
    "    plt.imshow(stage_slice, cmap='gray', vmin=bkgd_signal, vmax=np.max(stage_slice)-1)\n",
    "    ax=fig.add_subplot(2,2,3)\n",
    "    plt.imshow(age_zoom_top, cmap='gray', vmin=bkgd_signal, vmax=np.max(age_zoom_top)-1)\n",
    "    ax=fig.add_subplot(2,2,4)\n",
    "    plt.imshow(age_zoom_mid, cmap='gray', vmin=bkgd_signal, vmax=np.max(age_zoom_top)-1)\n",
    "\n",
    "    #time to save\n",
    "    os.makedirs(path[:-4], exist_ok=True)\n",
    "    fig.savefig(os.path.join(path[:-4], f\"{filename[:-4]}_DAPI\"))"
   ],
   "outputs": [],
   "metadata": {}
  }
 ],
 "metadata": {
  "orig_nbformat": 4,
  "language_info": {
   "name": "python",
   "version": "3.9.7",
   "mimetype": "text/x-python",
   "codemirror_mode": {
    "name": "ipython",
    "version": 3
   },
   "pygments_lexer": "ipython3",
   "nbconvert_exporter": "python",
   "file_extension": ".py"
  },
  "kernelspec": {
   "name": "python3",
   "display_name": "Python 3.9.7 64-bit ('imgproc': conda)"
  },
  "interpreter": {
   "hash": "4802bb89b22aac9c6dead9ab9508eb6c717a13a5954db7f8c0f187184bf82a44"
  }
 },
 "nbformat": 4,
 "nbformat_minor": 2
}