{
  "cells": [
    {
      "cell_type": "code",
      "execution_count": null,
      "source": [
        "#matplotlib inline"
      ],
      "outputs": [],
      "metadata": {
        "collapsed": false
      }
    },
    {
      "cell_type": "markdown",
      "source": [
        "\n",
        "# Segment human cells (in mitosis)\n",
        "\n",
        "In this example, we analyze a microscopy image of human cells. We use data\n",
        "provided by Jason Moffat [1]_ through\n",
        "`CellProfiler <https://cellprofiler.org/examples/#human-cells>`_.\n",
        "\n",
        ".. [1] Moffat J, Grueneberg DA, Yang X, Kim SY, Kloepfer AM, Hinkle G, Piqani\n",
        "       B, Eisenhaure TM, Luo B, Grenier JK, Carpenter AE, Foo SY, Stewart SA,\n",
        "       Stockwell BR, Hacohen N, Hahn WC, Lander ES, Sabatini DM, Root DE\n",
        "       (2006) \"A lentiviral RNAi library for human and mouse genes applied to\n",
        "       an arrayed viral high-content screen\" Cell, 124(6):1283-98.\n",
        "       PMID: 16564017\n",
        "       :DOI:`10.1016/j.cell.2006.01.040`\n"
      ],
      "metadata": {}
    },
    {
      "cell_type": "code",
      "execution_count": null,
      "source": [
        "import matplotlib.pyplot as plt\n",
        "import numpy as np\n",
        "from scipy import ndimage as ndi\n",
        "\n",
        "from skimage import (\n",
        "    color, feature, filters, measure, morphology, segmentation, util\n",
        ")\n",
        "from skimage.data import human_mitosis\n",
        "\n",
        "image = human_mitosis()\n",
        "\n",
        "fig, ax = plt.subplots()\n",
        "ax.imshow(image, cmap='gray')\n",
        "ax.set_title('Microscopy image of human cells stained for nuclear DNA')\n",
        "plt.show()"
      ],
      "outputs": [],
      "metadata": {
        "collapsed": false
      }
    },
    {
      "cell_type": "markdown",
      "source": [
        "We can see many cell nuclei on a dark background. Most of them are smooth\n",
        "and have an elliptical shape. However, we can distinguish some brighter\n",
        "spots corresponding to nuclei undergoing\n",
        "`mitosis <https://en.wikipedia.org/wiki/Mitosis>`_ (cell division).\n",
        "\n"
      ],
      "metadata": {}
    },
    {
      "cell_type": "markdown",
      "source": [
        "Another way of visualizing a grayscale image is contour plotting:\n",
        "\n"
      ],
      "metadata": {}
    },
    {
      "cell_type": "code",
      "execution_count": null,
      "source": [
        "fig, ax = plt.subplots(figsize=(5, 5))\n",
        "qcs = ax.contour(image, origin='image')\n",
        "ax.set_title('Contour plot of the same raw image')\n",
        "plt.show()"
      ],
      "outputs": [],
      "metadata": {
        "collapsed": false
      }
    },
    {
      "cell_type": "markdown",
      "source": [
        "The contour lines are drawn at these levels:\n",
        "\n"
      ],
      "metadata": {}
    },
    {
      "cell_type": "code",
      "execution_count": null,
      "source": [
        "qcs.levels"
      ],
      "outputs": [],
      "metadata": {
        "collapsed": false
      }
    },
    {
      "cell_type": "markdown",
      "source": [
        "Each level has, respectively, the following number of segments:\n",
        "\n"
      ],
      "metadata": {}
    },
    {
      "cell_type": "code",
      "execution_count": null,
      "source": [
        "[len(seg) for seg in qcs.allsegs]"
      ],
      "outputs": [],
      "metadata": {
        "collapsed": false
      }
    },
    {
      "cell_type": "markdown",
      "source": [
        "## Estimate the mitotic index\n",
        "Cell biology uses the\n",
        "`mitotic index <https://en.wikipedia.org/wiki/Mitotic_index>`_\n",
        "to quantify cell division and,\n",
        "hence, cell proliferation. By definition, it is the ratio of cells in\n",
        "mitosis over the total number of cells. To analyze the above image,\n",
        "we are thus interested in two thresholds: one separating the nuclei from the\n",
        "background, the other separating the dividing nuclei (brighter spots) from\n",
        "the non-dividing nuclei.\n",
        "To separate these three different classes of pixels, we\n",
        "resort to `sphx_glr_auto_examples_segmentation_plot_multiotsu.py`.\n",
        "\n"
      ],
      "metadata": {}
    },
    {
      "cell_type": "code",
      "execution_count": null,
      "source": [
        "thresholds = filters.threshold_multiotsu(image, classes=3)\n",
        "regions = np.digitize(image, bins=thresholds)\n",
        "\n",
        "fig, ax = plt.subplots(ncols=2, figsize=(10, 5))\n",
        "ax[0].imshow(image)\n",
        "ax[0].set_title('Original')\n",
        "ax[0].axis('off')\n",
        "ax[1].imshow(regions)\n",
        "ax[1].set_title('Multi-Otsu thresholding')\n",
        "ax[1].axis('off')\n",
        "plt.show()"
      ],
      "outputs": [],
      "metadata": {
        "collapsed": false
      }
    },
    {
      "cell_type": "markdown",
      "source": [
        "Since there are overlapping nuclei, thresholding is not enough to segment\n",
        "all the nuclei.\n",
        "If it were, we could readily compute a mitotic index for this\n",
        "sample:\n",
        "\n"
      ],
      "metadata": {}
    },
    {
      "cell_type": "code",
      "execution_count": null,
      "source": [
        "cells = image > thresholds[0]\n",
        "dividing = image > thresholds[1]\n",
        "labeled_cells = measure.label(cells)\n",
        "labeled_dividing = measure.label(dividing)\n",
        "naive_mi = labeled_dividing.max() / labeled_cells.max()\n",
        "print(naive_mi)"
      ],
      "outputs": [],
      "metadata": {
        "collapsed": false
      }
    },
    {
      "cell_type": "markdown",
      "source": [
        "Whoa, this can't be! The number of dividing nuclei\n",
        "\n"
      ],
      "metadata": {}
    },
    {
      "cell_type": "code",
      "execution_count": null,
      "source": [
        "print(labeled_dividing.max())"
      ],
      "outputs": [],
      "metadata": {
        "collapsed": false
      }
    },
    {
      "cell_type": "markdown",
      "source": [
        "is overestimated, while the total number of cells\n",
        "\n"
      ],
      "metadata": {}
    },
    {
      "cell_type": "code",
      "execution_count": null,
      "source": [
        "print(labeled_cells.max())"
      ],
      "outputs": [],
      "metadata": {
        "collapsed": false
      }
    },
    {
      "cell_type": "markdown",
      "source": [
        "is underestimated.\n",
        "\n"
      ],
      "metadata": {}
    },
    {
      "cell_type": "code",
      "execution_count": null,
      "source": [
        "fig, ax = plt.subplots(ncols=3, figsize=(15, 5))\n",
        "ax[0].imshow(image)\n",
        "ax[0].set_title('Original')\n",
        "ax[0].axis('off')\n",
        "ax[2].imshow(cells)\n",
        "ax[2].set_title('All nuclei?')\n",
        "ax[2].axis('off')\n",
        "ax[1].imshow(dividing)\n",
        "ax[1].set_title('Dividing nuclei?')\n",
        "ax[1].axis('off')\n",
        "plt.show()"
      ],
      "outputs": [],
      "metadata": {
        "collapsed": false
      }
    },
    {
      "cell_type": "markdown",
      "source": [
        "## Count dividing nuclei\n",
        "Clearly, not all connected regions in the middle plot are dividing nuclei.\n",
        "On one hand, the second threshold (value of ``thresholds[1]``) appears to be\n",
        "too low to separate those very bright areas corresponding to dividing nuclei\n",
        "from relatively bright pixels otherwise present in many nuclei. On the other\n",
        "hand, we want a smoother image, removing small spurious objects and,\n",
        "possibly, merging clusters of neighbouring objects (some could correspond to\n",
        "two nuclei emerging from one cell division). In a way, the segmentation\n",
        "challenge we are facing with dividing nuclei is the opposite of that with\n",
        "(touching) cells.\n",
        "\n"
      ],
      "metadata": {}
    },
    {
      "cell_type": "markdown",
      "source": [
        "To find suitable values for thresholds and filtering parameters, we proceed\n",
        "by dichotomy, visually and manually.\n",
        "\n"
      ],
      "metadata": {}
    },
    {
      "cell_type": "code",
      "execution_count": null,
      "source": [
        "higher_threshold = 125\n",
        "dividing = image > higher_threshold\n",
        "\n",
        "smoother_dividing = filters.rank.mean(util.img_as_ubyte(dividing),\n",
        "                                      morphology.disk(4))\n",
        "\n",
        "binary_smoother_dividing = smoother_dividing > 20\n",
        "\n",
        "fig, ax = plt.subplots(figsize=(5, 5))\n",
        "ax.imshow(binary_smoother_dividing)\n",
        "ax.set_title('Dividing nuclei')\n",
        "ax.axis('off')\n",
        "plt.show()"
      ],
      "outputs": [],
      "metadata": {
        "collapsed": false
      }
    },
    {
      "cell_type": "markdown",
      "source": [
        "We are left with\n",
        "\n"
      ],
      "metadata": {}
    },
    {
      "cell_type": "code",
      "execution_count": null,
      "source": [
        "cleaned_dividing = measure.label(binary_smoother_dividing)\n",
        "print(cleaned_dividing.max())"
      ],
      "outputs": [],
      "metadata": {
        "collapsed": false
      }
    },
    {
      "cell_type": "markdown",
      "source": [
        "dividing nuclei in this sample.\n",
        "\n"
      ],
      "metadata": {}
    },
    {
      "cell_type": "markdown",
      "source": [
        "## Segment nuclei\n",
        "To separate overlapping nuclei, we resort to\n",
        "`sphx_glr_auto_examples_segmentation_plot_watershed.py`.\n",
        "To visualize the segmentation conveniently, we colour-code the labelled\n",
        "regions using the `color.label2rgb` function, specifying the background\n",
        "label with argument `bg_label=0`.\n",
        "\n"
      ],
      "metadata": {}
    },
    {
      "cell_type": "code",
      "execution_count": null,
      "source": [
        "distance = ndi.distance_transform_edt(cells)\n",
        "\n",
        "local_max_coords = feature.peak_local_max(distance, min_distance=7)\n",
        "local_max_mask = np.zeros(distance.shape, dtype=bool)\n",
        "local_max_mask[tuple(local_max_coords.T)] = True\n",
        "markers = measure.label(local_max_mask)\n",
        "\n",
        "segmented_cells = segmentation.watershed(-distance, markers, mask=cells)\n",
        "\n",
        "fig, ax = plt.subplots(ncols=2, figsize=(10, 5))\n",
        "ax[0].imshow(cells, cmap='gray')\n",
        "ax[0].set_title('Overlapping nuclei')\n",
        "ax[0].axis('off')\n",
        "ax[1].imshow(color.label2rgb(segmented_cells, bg_label=0))\n",
        "ax[1].set_title('Segmented nuclei')\n",
        "ax[1].axis('off')\n",
        "plt.show()"
      ],
      "outputs": [],
      "metadata": {
        "collapsed": false
      }
    },
    {
      "cell_type": "markdown",
      "source": [
        "Additionally, we may use function `color.label2rgb` to overlay the original\n",
        "image with the segmentation result, using transparency (alpha parameter).\n",
        "\n"
      ],
      "metadata": {}
    },
    {
      "cell_type": "code",
      "execution_count": null,
      "source": [
        "color_labels = color.label2rgb(segmented_cells, image, alpha=0.4, bg_label=0)\n",
        "\n",
        "fig, ax = plt.subplots(figsize=(5, 5))\n",
        "ax.imshow(color_labels)\n",
        "ax.set_title('Segmentation result over raw image')\n",
        "plt.show()"
      ],
      "outputs": [],
      "metadata": {
        "collapsed": false
      }
    },
    {
      "cell_type": "markdown",
      "source": [
        "Finally, we find a total number of\n",
        "\n"
      ],
      "metadata": {}
    },
    {
      "cell_type": "code",
      "execution_count": null,
      "source": [
        "print(segmented_cells.max())"
      ],
      "outputs": [],
      "metadata": {
        "collapsed": false
      }
    },
    {
      "cell_type": "markdown",
      "source": [
        "cells in this sample. Therefore, we estimate the mitotic index to be:\n",
        "\n"
      ],
      "metadata": {}
    },
    {
      "cell_type": "code",
      "execution_count": null,
      "source": [
        "print(cleaned_dividing.max() / segmented_cells.max())"
      ],
      "outputs": [],
      "metadata": {
        "collapsed": false
      }
    }
  ],
  "metadata": {
    "kernelspec": {
      "display_name": "Python 3",
      "language": "python",
      "name": "python3"
    },
    "language_info": {
      "codemirror_mode": {
        "name": "ipython",
        "version": 3
      },
      "file_extension": ".py",
      "mimetype": "text/x-python",
      "name": "python",
      "nbconvert_exporter": "python",
      "pygments_lexer": "ipython3",
      "version": "3.7.11"
    }
  },
  "nbformat": 4,
  "nbformat_minor": 2
}