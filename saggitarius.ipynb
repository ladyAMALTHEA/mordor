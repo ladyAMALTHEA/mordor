{
 "cells": [
  {
   "cell_type": "markdown",
   "source": [
    "## Goal of this will be to make a function for extracting the midsaggital layer +/- 3 and performing all the masking, and rotating. "
   ],
   "metadata": {}
  },
  {
   "cell_type": "code",
   "execution_count": null,
   "source": [
    "import math\n",
    "import matplotlib.pyplot as plt\n",
    "import numpy as np\n",
    "import pandas as pd\n",
    "\n",
    "import czifile\n",
    "from pathlib import Path\n",
    "import os\n",
    "import tifffile\n",
    "import cv2\n",
    "from skimage import morphology, exposure, segmentation, filters, data, color, measure, draw\n",
    "from skimage.feature import canny\n",
    "from skimage.draw import ellipse_perimeter, ellipse\n",
    "import napari\n",
    "from skimage.measure import regionprops, regionprops_table, label, EllipseModel\n",
    "from skimage.transform import rotate\n",
    "\n",
    "from scipy import ndimage, misc"
   ],
   "outputs": [],
   "metadata": {}
  },
  {
   "cell_type": "code",
   "execution_count": null,
   "source": [
    "max_projection_DAPI = img_DAPI.max(0)\n",
    "saggital_DAPI_t = img_DAPI[archer-3,:,:]\n",
    "saggital_DAPI_m = img_DAPI[archer,:,:]\n",
    "saggital_DAPI_b = img_DAPI[archer+3,:,:]\n",
    "saggital_snail_t = img_hb[archer-3,:,:]\n",
    "saggital_snail_b = img_hb[archer,:,:]\n",
    "saggital_snail_m = img_hb[archer+3,:,:]"
   ],
   "outputs": [],
   "metadata": {}
  },
  {
   "cell_type": "code",
   "execution_count": null,
   "source": [
    "normalized = exposure.adjust_gamma(saggital_DAPI)\n",
    "hysterics = filters.apply_hysteresis_threshold(normalized, bkgd_signal, np.max(normalized)-1)\n",
    "closed=morphology.binary_closing(hysterics)\n",
    "edges = canny(closed, sigma=2.0, low_threshold=0.55, high_threshold=0.8) "
   ],
   "outputs": [],
   "metadata": {}
  }
 ],
 "metadata": {
  "orig_nbformat": 4,
  "language_info": {
   "name": "python"
  }
 },
 "nbformat": 4,
 "nbformat_minor": 2
}