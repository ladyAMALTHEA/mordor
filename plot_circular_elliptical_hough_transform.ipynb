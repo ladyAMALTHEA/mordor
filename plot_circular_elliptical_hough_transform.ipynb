{
  "cells": [
    {
      "cell_type": "code",
      "execution_count": null,
      "source": [
        "%matplotlib inline"
      ],
      "outputs": [],
      "metadata": {
        "collapsed": false
      }
    },
    {
      "cell_type": "markdown",
      "source": [
        "\n",
        "# Circular and Elliptical Hough Transforms\n",
        "\n",
        "The Hough transform in its simplest form is a `method to detect\n",
        "straight lines <https://en.wikipedia.org/wiki/Hough_transform>`__\n",
        "but it can also be used to detect circles or ellipses.\n",
        "The algorithm assumes that the edge is detected and it is robust against\n",
        "noise or missing points.\n",
        "\n",
        "## Circle detection\n",
        "\n",
        "In the following example, the Hough transform is used to detect\n",
        "coin positions and match their edges. We provide a range of\n",
        "plausible radii. For each radius, two circles are extracted and\n",
        "we finally keep the five most prominent candidates.\n",
        "The result shows that coin positions are well-detected.\n",
        "\n",
        "\n",
        "### Algorithm overview\n",
        "\n",
        "Given a black circle on a white background, we first guess its\n",
        "radius (or a range of radii) to construct a new circle.\n",
        "This circle is applied on each black pixel of the original picture\n",
        "and the coordinates of this circle are voting in an accumulator.\n",
        "From this geometrical construction, the original circle center\n",
        "position receives the highest score.\n",
        "\n",
        "Note that the accumulator size is built to be larger than the\n",
        "original picture in order to detect centers outside the frame.\n",
        "Its size is extended by two times the larger radius.\n"
      ],
      "metadata": {}
    },
    {
      "cell_type": "code",
      "execution_count": null,
      "source": [
        "import numpy as np\n",
        "import matplotlib.pyplot as plt\n",
        "\n",
        "from skimage import data, color\n",
        "from skimage.transform import hough_circle, hough_circle_peaks\n",
        "from skimage.feature import canny\n",
        "from skimage.draw import circle_perimeter\n",
        "from skimage.util import img_as_ubyte\n",
        "\n",
        "\n",
        "# Load picture and detect edges\n",
        "image = img_as_ubyte(data.coins()[160:230, 70:270])\n",
        "edges = canny(image, sigma=3, low_threshold=10, high_threshold=50)\n",
        "\n",
        "\n",
        "# Detect two radii\n",
        "hough_radii = np.arange(20, 35, 2)\n",
        "hough_res = hough_circle(edges, hough_radii)\n",
        "\n",
        "# Select the most prominent 3 circles\n",
        "accums, cx, cy, radii = hough_circle_peaks(hough_res, hough_radii,\n",
        "                                           total_num_peaks=3)\n",
        "\n",
        "# Draw them\n",
        "fig, ax = plt.subplots(ncols=1, nrows=1, figsize=(10, 4))\n",
        "image = color.gray2rgb(image)\n",
        "for center_y, center_x, radius in zip(cy, cx, radii):\n",
        "    circy, circx = circle_perimeter(center_y, center_x, radius,\n",
        "                                    shape=image.shape)\n",
        "    image[circy, circx] = (220, 20, 20)\n",
        "\n",
        "ax.imshow(image, cmap=plt.cm.gray)\n",
        "plt.show()"
      ],
      "outputs": [],
      "metadata": {
        "collapsed": false
      }
    },
    {
      "cell_type": "markdown",
      "source": [
        "## Ellipse detection\n",
        "\n",
        "In this second example, the aim is to detect the edge of a coffee cup.\n",
        "Basically, this is a projection of a circle, i.e. an ellipse. The problem\n",
        "to solve is much more difficult because five parameters have to be\n",
        "determined, instead of three for circles.\n",
        "\n",
        "### Algorithm overview\n",
        "\n",
        "The algorithm takes two different points belonging to the ellipse. It\n",
        "assumes that it is the main axis. A loop on all the other points determines\n",
        "how much an ellipse passes to them. A good match corresponds to high\n",
        "accumulator values.\n",
        "\n",
        "A full description of the algorithm can be found in reference [1]_.\n",
        "\n",
        "### References\n",
        ".. [1] Xie, Yonghong, and Qiang Ji. \"A new efficient\n",
        "       ellipse detection method.\" Pattern Recognition, 2002. Proceedings.\n",
        "       16th International Conference on. Vol. 2. IEEE, 2002\n",
        "\n"
      ],
      "metadata": {}
    },
    {
      "cell_type": "code",
      "execution_count": null,
      "source": [
        "import matplotlib.pyplot as plt\n",
        "\n",
        "from skimage import data, color, img_as_ubyte\n",
        "from skimage.feature import canny\n",
        "from skimage.transform import hough_ellipse\n",
        "from skimage.draw import ellipse_perimeter\n",
        "\n",
        "# Load picture, convert to grayscale and detect edges\n",
        "image_rgb = data.coffee()[0:220, 160:420]\n",
        "image_gray = color.rgb2gray(image_rgb)\n",
        "edges = canny(image_gray, sigma=2.0,\n",
        "              low_threshold=0.55, high_threshold=0.8)\n",
        "\n",
        "# Perform a Hough Transform\n",
        "# The accuracy corresponds to the bin size of a major axis.\n",
        "# The value is chosen in order to get a single high accumulator.\n",
        "# The threshold eliminates low accumulators\n",
        "result = hough_ellipse(edges, accuracy=20, threshold=250,\n",
        "                       min_size=100, max_size=120)\n",
        "result.sort(order='accumulator')\n",
        "\n",
        "# Estimated parameters for the ellipse\n",
        "best = list(result[-1])\n",
        "yc, xc, a, b = [int(round(x)) for x in best[1:5]]\n",
        "orientation = best[5]\n",
        "\n",
        "# Draw the ellipse on the original image\n",
        "cy, cx = ellipse_perimeter(yc, xc, a, b, orientation)\n",
        "image_rgb[cy, cx] = (0, 0, 255)\n",
        "# Draw the edge (white) and the resulting ellipse (red)\n",
        "edges = color.gray2rgb(img_as_ubyte(edges))\n",
        "edges[cy, cx] = (250, 0, 0)\n",
        "\n",
        "fig2, (ax1, ax2) = plt.subplots(ncols=2, nrows=1, figsize=(8, 4),\n",
        "                                sharex=True, sharey=True)\n",
        "\n",
        "ax1.set_title('Original picture')\n",
        "ax1.imshow(image_rgb)\n",
        "\n",
        "ax2.set_title('Edge (white) and result (red)')\n",
        "ax2.imshow(edges)\n",
        "\n",
        "plt.show()"
      ],
      "outputs": [],
      "metadata": {
        "collapsed": false
      }
    }
  ],
  "metadata": {
    "kernelspec": {
      "display_name": "Python 3",
      "language": "python",
      "name": "python3"
    },
    "language_info": {
      "codemirror_mode": {
        "name": "ipython",
        "version": 3
      },
      "file_extension": ".py",
      "mimetype": "text/x-python",
      "name": "python",
      "nbconvert_exporter": "python",
      "pygments_lexer": "ipython3",
      "version": "3.7.11"
    }
  },
  "nbformat": 4,
  "nbformat_minor": 2
}